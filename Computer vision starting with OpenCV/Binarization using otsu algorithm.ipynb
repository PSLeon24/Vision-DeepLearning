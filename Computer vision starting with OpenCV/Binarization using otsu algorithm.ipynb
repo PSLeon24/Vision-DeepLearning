{
 "cells": [
  {
   "cell_type": "code",
   "execution_count": 11,
   "id": "3b524793",
   "metadata": {},
   "outputs": [
    {
     "name": "stdout",
     "output_type": "stream",
     "text": [
      "오츄 알고리즘이 찾은 최적 임곗값 = 139.0\n"
     ]
    }
   ],
   "source": [
    "import cv2 as cv\n",
    "import sys\n",
    "\n",
    "img = cv.imread('star.jpeg')\n",
    "\n",
    "t, bin_img = cv.threshold(img[:, :, 2], 0, 255, cv.THRESH_BINARY + cv.THRESH_OTSU)\n",
    "print(f'오츄 알고리즘이 찾은 최적 임곗값 = {t}')\n",
    "\n",
    "cv.imshow('R channel', img[:, :, 2])\n",
    "cv.imshow('R channel binarization', bin_img)\n",
    "\n",
    "cv.waitKey()\n",
    "cv.destroyAllWindows()"
   ]
  },
  {
   "cell_type": "code",
   "execution_count": null,
   "id": "93b3984a",
   "metadata": {},
   "outputs": [],
   "source": []
  }
 ],
 "metadata": {
  "kernelspec": {
   "display_name": "Python 3 (ipykernel)",
   "language": "python",
   "name": "python3"
  },
  "language_info": {
   "codemirror_mode": {
    "name": "ipython",
    "version": 3
   },
   "file_extension": ".py",
   "mimetype": "text/x-python",
   "name": "python",
   "nbconvert_exporter": "python",
   "pygments_lexer": "ipython3",
   "version": "3.7.16"
  }
 },
 "nbformat": 4,
 "nbformat_minor": 5
}
