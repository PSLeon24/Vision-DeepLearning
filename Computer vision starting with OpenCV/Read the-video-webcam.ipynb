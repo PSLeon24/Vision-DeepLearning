{
 "cells": [
  {
   "cell_type": "code",
   "execution_count": 6,
   "id": "dae3b963",
   "metadata": {},
   "outputs": [],
   "source": [
    "import cv2 as cv\n",
    "import sys\n",
    "\n",
    "cap = cv.VideoCapture(0)\n",
    "cap.set(cv.CAP_PROP_FRAME_WIDTH, 640)\n",
    "cap.set(cv.CAP_PROP_FRAME_HEIGHT, 480)\n",
    "\n",
    "if not cap.isOpened():\n",
    "    sys.exit('Failed to connect')\n",
    "    \n",
    "while True:\n",
    "    ret, frame = cap.read()\n",
    "    \n",
    "    if not ret:\n",
    "        print('프레임 획득에 실패하여 loop 나감')\n",
    "        break\n",
    "    \n",
    "    cv.imshow('Video display', frame)\n",
    "    \n",
    "    key=cv.waitKey(1) # to wait keyboard input for 1ms\n",
    "    if key==ord('q'): # if input 'q' == break\n",
    "        break\n",
    "\n",
    "cap.release() # disconnect webcam\n",
    "cv.destroyAllWindows()"
   ]
  },
  {
   "cell_type": "code",
   "execution_count": null,
   "id": "1408421a",
   "metadata": {},
   "outputs": [],
   "source": []
  }
 ],
 "metadata": {
  "kernelspec": {
   "display_name": "Python 3 (ipykernel)",
   "language": "python",
   "name": "python3"
  },
  "language_info": {
   "codemirror_mode": {
    "name": "ipython",
    "version": 3
   },
   "file_extension": ".py",
   "mimetype": "text/x-python",
   "name": "python",
   "nbconvert_exporter": "python",
   "pygments_lexer": "ipython3",
   "version": "3.10.9"
  }
 },
 "nbformat": 4,
 "nbformat_minor": 5
}
