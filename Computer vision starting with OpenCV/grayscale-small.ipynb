{
 "cells": [
  {
   "cell_type": "code",
   "execution_count": null,
   "id": "9d43642d",
   "metadata": {},
   "outputs": [],
   "source": [
    "import cv2 as cv\n",
    "import sys\n",
    "\n",
    "img=cv.imread('star.jpeg')\n",
    "\n",
    "if img is None:\n",
    "    sys.exit('파일을 찾을 수 없습니다.')\n",
    "    \n",
    "gray=cv.cvtColor(img, cv.COLOR_BGR2GRAY) # BGR 컬러 영상을 명암 영상으로 변환\n",
    "gray_small=cv.resize(gray,dsize=(0,0), fx=0.5, fy=0.5) # 반으로 사이즈 축소\n",
    "\n",
    "cv.imwrite('star_gray.jpeg', gray)\n",
    "cv.imwrite('star_gray_small.jpeg', gray_small)\n",
    "\n",
    "cv.imshow('Color Image', img)\n",
    "cv.imshow('Gray Image', gray)\n",
    "cv.imshow('Gray Image Small', gray_small)\n",
    "\n",
    "cv.waitKey()\n",
    "cv.destroyAllWindows()"
   ]
  },
  {
   "cell_type": "code",
   "execution_count": null,
   "id": "7bbd185f",
   "metadata": {},
   "outputs": [],
   "source": []
  }
 ],
 "metadata": {
  "kernelspec": {
   "display_name": "Python 3 (ipykernel)",
   "language": "python",
   "name": "python3"
  },
  "language_info": {
   "codemirror_mode": {
    "name": "ipython",
    "version": 3
   },
   "file_extension": ".py",
   "mimetype": "text/x-python",
   "name": "python",
   "nbconvert_exporter": "python",
   "pygments_lexer": "ipython3",
   "version": "3.10.9"
  }
 },
 "nbformat": 4,
 "nbformat_minor": 5
}
